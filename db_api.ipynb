{
 "cells": [
  {
   "attachments": {},
   "cell_type": "markdown",
   "metadata": {},
   "source": [
    "Import the USSCS database kernel"
   ]
  },
  {
   "cell_type": "code",
   "execution_count": 1,
   "metadata": {},
   "outputs": [],
   "source": [
    "from db_kernel import manage\n",
    "from db_kernel import user as user_kernel\n",
    "#without login:\n",
    "def add_user(username:str, password:str, twofa:bool):\n",
    "    \"\"\"\n",
    "    Add a user to the database.\n",
    "    If two factor authentication is enabled, will return qrcode image.\n",
    "    \"\"\"\n",
    "    return manage().add_user(username, password, twofa)\n",
    "\n",
    "class user:\n",
    "    def __init__(self, username:str, passwort:str, twofa_key:str=None):\n",
    "        self._user = user_kernel(username, passwort, twofa_key)\n",
    "    \n",
    "    def send_message(self, target:str, message:str, type:str='text'):\n",
    "        \"\"\"\n",
    "        Send a message to a user.\n",
    "        \"\"\"\n",
    "        return self._user.send_message(target, message, type)\n",
    "    def get_messages(self, target:str, message_id:int=-1):\n",
    "        \"\"\"\n",
    "        Get all messages from a user.\n",
    "        id is the id of the last message you have.\n",
    "        \"\"\"\n",
    "        return self._user.get_conversation(target, message_id)\n",
    "    def get_users_with_unread_messages(self):\n",
    "        \"\"\"\n",
    "        Get all users with unread messages.\n",
    "        \"\"\"\n",
    "        return self._user.get_unread_messages()\n"
   ]
  },
  {
   "cell_type": "code",
   "execution_count": 2,
   "metadata": {},
   "outputs": [
    {
     "name": "stdout",
     "output_type": "stream",
     "text": [
      "[('test', b'test', '16:50 06/04/23', 0, 'text')]\n"
     ]
    }
   ],
   "source": [
    "add_user('test', 'test', False)\n",
    "add_user('test2', 'test', False)\n",
    "user('test', 'test').send_message('test2', 'test')\n",
    "print(user('test2', 'test').get_messages('test'))"
   ]
  }
 ],
 "metadata": {
  "kernelspec": {
   "display_name": "Python 3",
   "language": "python",
   "name": "python3"
  },
  "language_info": {
   "codemirror_mode": {
    "name": "ipython",
    "version": 3
   },
   "file_extension": ".py",
   "mimetype": "text/x-python",
   "name": "python",
   "nbconvert_exporter": "python",
   "pygments_lexer": "ipython3",
   "version": "3.11.2"
  },
  "orig_nbformat": 4
 },
 "nbformat": 4,
 "nbformat_minor": 2
}
