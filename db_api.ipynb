{
 "cells": [
  {
   "attachments": {},
   "cell_type": "markdown",
   "metadata": {},
   "source": [
    "Import the USSCS database kernel"
   ]
  },
  {
   "cell_type": "code",
   "execution_count": null,
   "metadata": {},
   "outputs": [],
   "source": [
    "from db_kernel import manage\n",
    "from db_kernel import user as user_kernel\n",
    "import qrcode\n",
    "import rsa\n",
    "\"\"\"\n",
    "USSCS - Universal Server Side Chat System \n",
    "Version: 0.1.2 beta                           \n",
    "Author: Tilman Kurmayer                   \n",
    "License: only with permission from author \n",
    "                                                 \n",
    "Info: This file contains the API for the  \n",
    "database                                  \n",
    "for the USSCS                             \n",
    "                                          \n",
    "LAYER 2                                       \n",
    "\"\"\"\n",
    "__version__ = '0.1.1 beta'\n",
    "#without login:\n",
    "def add_user(username:str, password:str, public_key:rsa.PublicKey, private_key:rsa.PrivateKey, privacy:int=0, twofa:bool=False):\n",
    "    \"\"\"\n",
    "    Add a user to the database.\n",
    "    If two factor authentication is enabled, will return qrcode image.\n",
    "    \"\"\"\n",
    "    return manage().add_user(username, password, public_key, private_key, privacy, twofa)\n",
    "\n",
    "#with login:\n",
    "class user:\n",
    "    def __init__(self, username:str, passwort:str, twofa_key:str=None):\n",
    "        self._user = user_kernel(username, passwort, twofa_key)\n",
    "        self._manage = manage()\n",
    "    \n",
    "    def send_message(self, target:str, message:str, type:str='text'):\n",
    "        \"\"\"\n",
    "        Send a message to a user.\n",
    "        \"\"\"\n",
    "        return self._user.send_message(target, message, type)\n",
    "    def get_messages(self, target:str, message_id:int=-1):\n",
    "        \"\"\"\n",
    "        Get all messages from a user.\n",
    "        id is the id of the last message you have.\n",
    "        \"\"\"\n",
    "        return self._user.get_conversation(target, message_id)\n",
    "    def get_users_with_unread_messages(self):\n",
    "        \"\"\"\n",
    "        Get all users with unread messages.\n",
    "        \"\"\"\n",
    "        return self._user.get_unread_messages()\n",
    "    \n",
    "    def add_contact(self, contact:str):\n",
    "        \"\"\"\n",
    "        Add a contact.\n",
    "        \"\"\"\n",
    "        return self._user.add_contact(contact)\n",
    "    def remove_contact(self, contact:str):\n",
    "        \"\"\"\n",
    "        Remove a contact.\n",
    "        \"\"\"\n",
    "        return self._user.remove_contact(contact)\n",
    "    def get_contacts(self):\n",
    "        \"\"\"\n",
    "        Get all contacts.\n",
    "        \"\"\"\n",
    "        return self._manage.get_contacts(self._user.username)\n",
    "    \n",
    "    def set_privacy(self, privacy:int):\n",
    "        \"\"\"\n",
    "        Set privacy level.\n",
    "        0: public\n",
    "        1: contacts\n",
    "        \"\"\"\n",
    "        return self._user.set_privacy(privacy)\n",
    "    def get_privacy(self):\n",
    "        \"\"\"\n",
    "        Get privacy level.\n",
    "        0: public\n",
    "        1: contacts\n",
    "        \"\"\"\n",
    "        return self._user.privacy\n",
    "    \n",
    "    def enable_twofa(self) -> qrcode.image:\n",
    "        \"\"\"\n",
    "        Enable two factor authentication.\n",
    "        \"\"\"\n",
    "        return self._user.enable_2fa()\n",
    "    def disable_twofa(self):\n",
    "        \"\"\"\n",
    "        Disable two factor authentication.\n",
    "        \"\"\"\n",
    "        return self._user.disable_2fa()\n",
    "    def get_twofa(self):\n",
    "        \"\"\"\n",
    "        Get two factor authentication status.\n",
    "        \"\"\"\n",
    "        return self._user.is_2fa_enabled\n",
    "\n",
    "    def delete_account(self):\n",
    "        \"\"\"\n",
    "        Delete account.\n",
    "        \"\"\"\n",
    "        return self._user.delete_account()\n",
    "    \n",
    "    def get_all_users(self):\n",
    "        \"\"\"\n",
    "        Get all users.\n",
    "        \"\"\"\n",
    "        return self._manage.get_all_users()\n",
    "    \n",
    "    def change_password(self, new_password:str):\n",
    "        \"\"\"\n",
    "        Change password.\n",
    "        \"\"\"\n",
    "        return self._user.change_password(new_password)\n",
    "    \n"
   ]
  },
  {
   "cell_type": "code",
   "execution_count": null,
   "metadata": {},
   "outputs": [],
   "source": [
    "#delete all .db files\n",
    "import glob \n",
    "import os\n",
    "for file in glob.glob(\"*.db\"):\n",
    "    os.remove(file)\n",
    "pub, priv = rsa.newkeys(512)\n",
    "pub2, priv2 = rsa.newkeys(512)\n",
    "img = add_user('test', 'test', pub, priv, 0, False)\n",
    "add_user('test2', 'test2', pub2, priv2, 0, False)\n",
    "user1 = user('test', 'test')\n",
    "user2 = user('test2', 'test2')\n"
   ]
  },
  {
   "attachments": {},
   "cell_type": "markdown",
   "metadata": {},
   "source": [
    "Send messages"
   ]
  },
  {
   "cell_type": "code",
   "execution_count": null,
   "metadata": {},
   "outputs": [],
   "source": [
    "\n",
    "user1.send_message('test2', 'test'.encode())\n",
    "user2.send_message('test', 'test2'.encode())"
   ]
  },
  {
   "attachments": {},
   "cell_type": "markdown",
   "metadata": {},
   "source": [
    "Read messages"
   ]
  },
  {
   "cell_type": "code",
   "execution_count": null,
   "metadata": {},
   "outputs": [],
   "source": [
    "print(user1.get_users_with_unread_messages())\n",
    "print(user2.get_users_with_unread_messages())\n",
    "      \n",
    "print(user1.get_messages('test2'))\n",
    "print(user2.get_messages('test'))\n"
   ]
  },
  {
   "attachments": {},
   "cell_type": "markdown",
   "metadata": {},
   "source": [
    "Privacy testing"
   ]
  },
  {
   "cell_type": "code",
   "execution_count": null,
   "metadata": {},
   "outputs": [],
   "source": [
    "user1.set_privacy(1)\n",
    "#user2.send_message('test', 'test3') #should not work (get error)\n",
    "user1.add_contact('test2')\n",
    "user2.send_message('test', 'test3') #should work\n"
   ]
  },
  {
   "attachments": {},
   "cell_type": "markdown",
   "metadata": {},
   "source": [
    "2FA testing"
   ]
  },
  {
   "cell_type": "code",
   "execution_count": null,
   "metadata": {},
   "outputs": [],
   "source": [
    "img = user1.enable_twofa()\n",
    "img.save('qrcode.png')\n",
    "user1 = user(\"test\", \"test\", input(\"2fa key: \"))\n"
   ]
  }
 ],
 "metadata": {
  "kernelspec": {
   "display_name": "Python 3",
   "language": "python",
   "name": "python3"
  },
  "language_info": {
   "codemirror_mode": {
    "name": "ipython",
    "version": 3
   },
   "file_extension": ".py",
   "mimetype": "text/x-python",
   "name": "python",
   "nbconvert_exporter": "python",
   "pygments_lexer": "ipython3",
   "version": "3.11.2"
  },
  "orig_nbformat": 4
 },
 "nbformat": 4,
 "nbformat_minor": 2
}
