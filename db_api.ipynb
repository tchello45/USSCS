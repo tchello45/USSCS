{
 "cells": [
  {
   "cell_type": "code",
   "execution_count": null,
   "metadata": {},
   "outputs": [],
   "source": [
    "import db_kernel\n",
    "from db_kernel import add_user\n",
    "from db_kernel import remove_user\n",
    "import rsa\n",
    "import secrets\n",
    "class user:\n",
    "    def __init__(self, username:str, password:str):\n",
    "        if not db_kernel.main_db().exists(username):\n",
    "            raise Exception(\"User does not exist\")\n",
    "        self.username = username\n",
    "        self.password = password\n",
    "        self.user_obj = db_kernel.user_db(db_kernel.main_db().get_user_server_id(username))\n",
    "        if not self.user_obj.auth(username, password):\n",
    "            raise Exception(\"Invalid password\")\n",
    "    def send_message(self, target:str, message:str, mes_type:str=\"text\"):\n",
    "        return db_kernel.direct_db(self.username, target, self.password).send_message(message, mes_type)\n",
    "    def get_conversation(self, target:str, _id=-1):\n",
    "        return db_kernel.direct_db(self.username, target, self.password).get_conversation(_id)\n",
    "    def get_unread_messages(self, target:str):\n",
    "        return db_kernel.direct_db(self.username, target, self.password).get_unread_messages()\n",
    "    def get_unread_users(self):\n",
    "        return self.user_obj.get_unread(self.username)\n",
    "    def get_all_users(self):\n",
    "        return db_kernel.main_db().get_all_users()\n",
    "    def get_contacts(self):\n",
    "        return self.user_obj.get_contacts()\n",
    "    def add_contact(self, target:str):\n",
    "        self.user_obj.add_contact(target)\n",
    "    def remove_contact(self, target:str):\n",
    "        self.user_obj.remove_contact(target)\n",
    "    def get_privacy(self):\n",
    "        return self.user_obj.get_user_privacy(self.username)\n",
    "    def set_privacy(self, privacy:int):\n",
    "        if privacy not in [0, 1]:\n",
    "            raise Exception(\"Invalid privacy setting\")\n",
    "        self.user_obj.set_user_privacy(self.username, privacy)\n",
    "    "
   ]
  },
  {
   "cell_type": "code",
   "execution_count": null,
   "metadata": {},
   "outputs": [],
   "source": [
    "pub, priv = rsa.newkeys(512)\n",
    "pub2, priv2 = rsa.newkeys(512)\n",
    "\n",
    "add_user(\"test\", \"test\", pub, priv)\n",
    "add_user(\"test2\", \"test2\", pub2, priv2)\n",
    "\n",
    "user1 = user(\"test\", \"test\")\n",
    "user2 = user(\"test2\", \"test2\")\n",
    "\n",
    "user1.send_message(\"test2\", \"Hello World from test\")\n",
    "user2.send_message(\"test\", \"Hello World from test2\")\n",
    "\n",
    "conv = user1.get_conversation(\"test2\")\n",
    "for i in conv:\n",
    "    print(i[\"sender\"] + \": \" + i[\"message\"] + \" (\" + str(i[\"timestamp\"]) + \")\")\n",
    "    \n"
   ]
  }
 ],
 "metadata": {
  "kernelspec": {
   "display_name": "Python 3",
   "language": "python",
   "name": "python3"
  },
  "language_info": {
   "codemirror_mode": {
    "name": "ipython",
    "version": 3
   },
   "file_extension": ".py",
   "mimetype": "text/x-python",
   "name": "python",
   "nbconvert_exporter": "python",
   "pygments_lexer": "ipython3",
   "version": "3.11.2"
  },
  "orig_nbformat": 4
 },
 "nbformat": 4,
 "nbformat_minor": 2
}
