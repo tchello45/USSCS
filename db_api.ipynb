{
 "cells": [
  {
   "attachments": {},
   "cell_type": "markdown",
   "metadata": {},
   "source": [
    "Import the USSCS database kernel"
   ]
  },
  {
   "cell_type": "code",
   "execution_count": 1,
   "metadata": {},
   "outputs": [],
   "source": [
    "from db_kernel import manage\n",
    "from db_kernel import user as user_kernel\n",
    "import qrcode\n",
    "import rsa\n",
    "#without login:\n",
    "def add_user(username:str, password:str, public_key:rsa.PublicKey, private_key:rsa.PrivateKey, privacy:int=0, twofa:bool=False):\n",
    "    \"\"\"\n",
    "    Add a user to the database.\n",
    "    If two factor authentication is enabled, will return qrcode image.\n",
    "    \"\"\"\n",
    "    return manage().add_user(username, password, public_key, private_key, privacy, twofa)\n",
    "\n",
    "#with login:\n",
    "class user:\n",
    "    def __init__(self, username:str, passwort:str, twofa_key:str=None):\n",
    "        self._user = user_kernel(username, passwort, twofa_key)\n",
    "        self._manage = manage()\n",
    "    \n",
    "    def send_message(self, target:str, message:str, type:str='text'):\n",
    "        \"\"\"\n",
    "        Send a message to a user.\n",
    "        \"\"\"\n",
    "        return self._user.send_message(target, message, type)\n",
    "    def get_messages(self, target:str, message_id:int=-1):\n",
    "        \"\"\"\n",
    "        Get all messages from a user.\n",
    "        id is the id of the last message you have.\n",
    "        \"\"\"\n",
    "        return self._user.get_conversation(target, message_id)\n",
    "    def get_users_with_unread_messages(self):\n",
    "        \"\"\"\n",
    "        Get all users with unread messages.\n",
    "        \"\"\"\n",
    "        return self._user.get_unread_messages()\n",
    "    \n",
    "    def add_contact(self, contact:str):\n",
    "        \"\"\"\n",
    "        Add a contact.\n",
    "        \"\"\"\n",
    "        return self._user.add_contact(contact)\n",
    "    def remove_contact(self, contact:str):\n",
    "        \"\"\"\n",
    "        Remove a contact.\n",
    "        \"\"\"\n",
    "        return self._user.remove_contact(contact)\n",
    "    def get_contacts(self):\n",
    "        \"\"\"\n",
    "        Get all contacts.\n",
    "        \"\"\"\n",
    "        return self._manage.get_contacts(self._user.username)\n",
    "    \n",
    "    def set_privacy(self, privacy:int):\n",
    "        \"\"\"\n",
    "        Set privacy level.\n",
    "        0: public\n",
    "        1: contacts\n",
    "        \"\"\"\n",
    "        return self._user.set_privacy(privacy)\n",
    "    def get_privacy(self):\n",
    "        \"\"\"\n",
    "        Get privacy level.\n",
    "        0: public\n",
    "        1: contacts\n",
    "        \"\"\"\n",
    "        return self._user.privacy\n",
    "    \n",
    "    def enable_twofa(self) -> qrcode.image:\n",
    "        \"\"\"\n",
    "        Enable two factor authentication.\n",
    "        \"\"\"\n",
    "        return self._user.enable_2fa()\n",
    "    def disable_twofa(self):\n",
    "        \"\"\"\n",
    "        Disable two factor authentication.\n",
    "        \"\"\"\n",
    "        return self._user.disable_2fa()\n",
    "    def get_twofa(self):\n",
    "        \"\"\"\n",
    "        Get two factor authentication status.\n",
    "        \"\"\"\n",
    "        return self._user.is_2fa_enabled\n",
    "\n",
    "    def delete_account(self):\n",
    "        \"\"\"\n",
    "        Delete account.\n",
    "        \"\"\"\n",
    "        return self._user.delete_account()\n",
    "    \n",
    "    def get_all_users(self):\n",
    "        \"\"\"\n",
    "        Get all users.\n",
    "        \"\"\"\n",
    "        return self._manage.get_all_users()\n",
    "    \n",
    "    def change_password(self, new_password:str):\n",
    "        \"\"\"\n",
    "        Change password.\n",
    "        \"\"\"\n",
    "        return self._user.change_password(new_password)\n",
    "    \n"
   ]
  },
  {
   "cell_type": "code",
   "execution_count": 2,
   "metadata": {},
   "outputs": [],
   "source": [
    "#delete all .db files\n",
    "import glob \n",
    "import os\n",
    "for file in glob.glob(\"*.db\"):\n",
    "    os.remove(file)\n",
    "pub, priv = rsa.newkeys(512)\n",
    "pub2, priv2 = rsa.newkeys(512)\n",
    "img = add_user('test', 'test', pub, priv, 0, False)\n",
    "add_user('test2', 'test2', pub2, priv2, 0, False)\n",
    "user1 = user('test', 'test')\n",
    "user2 = user('test2', 'test2')\n"
   ]
  },
  {
   "attachments": {},
   "cell_type": "markdown",
   "metadata": {},
   "source": [
    "Send messages"
   ]
  },
  {
   "cell_type": "code",
   "execution_count": 3,
   "metadata": {},
   "outputs": [],
   "source": [
    "\n",
    "user1.send_message('test2', 'test')\n",
    "user2.send_message('test', 'test2')"
   ]
  },
  {
   "attachments": {},
   "cell_type": "markdown",
   "metadata": {},
   "source": [
    "Read messages"
   ]
  },
  {
   "cell_type": "code",
   "execution_count": 4,
   "metadata": {},
   "outputs": [
    {
     "name": "stdout",
     "output_type": "stream",
     "text": [
      "['test2']\n",
      "['test']\n",
      "[('test', b'test', '20:12 09/04/23', 0, 'text'), ('test2', b'test2', '20:12 09/04/23', 0, 'text')]\n",
      "[('test', b'test', '20:12 09/04/23', 0, 'text'), ('test2', b'test2', '20:12 09/04/23', 1, 'text')]\n"
     ]
    }
   ],
   "source": [
    "print(user1.get_users_with_unread_messages())\n",
    "print(user2.get_users_with_unread_messages())\n",
    "      \n",
    "print(user1.get_messages('test2'))\n",
    "print(user2.get_messages('test'))\n"
   ]
  },
  {
   "attachments": {},
   "cell_type": "markdown",
   "metadata": {},
   "source": [
    "Privacy testing"
   ]
  },
  {
   "cell_type": "code",
   "execution_count": 5,
   "metadata": {},
   "outputs": [],
   "source": [
    "user1.set_privacy(1)\n",
    "#user2.send_message('test', 'test3') #should not work (get error)\n",
    "user1.add_contact('test2')\n",
    "user2.send_message('test', 'test3') #should work\n"
   ]
  },
  {
   "attachments": {},
   "cell_type": "markdown",
   "metadata": {},
   "source": [
    "2FA testing"
   ]
  },
  {
   "cell_type": "code",
   "execution_count": 6,
   "metadata": {},
   "outputs": [
    {
     "ename": "ValueError",
     "evalue": "2FA is enabled",
     "output_type": "error",
     "traceback": [
      "\u001b[0;31m---------------------------------------------------------------------------\u001b[0m",
      "\u001b[0;31mValueError\u001b[0m                                Traceback (most recent call last)",
      "\u001b[1;32m/home/n1rv4n4/USSCS/USSCS/db_api.ipynb Cell 11\u001b[0m in \u001b[0;36m3\n\u001b[1;32m      <a href='vscode-notebook-cell:/home/n1rv4n4/USSCS/USSCS/db_api.ipynb#X13sZmlsZQ%3D%3D?line=0'>1</a>\u001b[0m img \u001b[39m=\u001b[39m user1\u001b[39m.\u001b[39menable_twofa()\n\u001b[1;32m      <a href='vscode-notebook-cell:/home/n1rv4n4/USSCS/USSCS/db_api.ipynb#X13sZmlsZQ%3D%3D?line=1'>2</a>\u001b[0m img\u001b[39m.\u001b[39msave(\u001b[39m'\u001b[39m\u001b[39mqrcode.png\u001b[39m\u001b[39m'\u001b[39m)\n\u001b[0;32m----> <a href='vscode-notebook-cell:/home/n1rv4n4/USSCS/USSCS/db_api.ipynb#X13sZmlsZQ%3D%3D?line=2'>3</a>\u001b[0m user1 \u001b[39m=\u001b[39m user(\u001b[39m\"\u001b[39;49m\u001b[39mtest\u001b[39;49m\u001b[39m\"\u001b[39;49m, \u001b[39m\"\u001b[39;49m\u001b[39mtest\u001b[39;49m\u001b[39m\"\u001b[39;49m, \u001b[39minput\u001b[39;49m(\u001b[39m\"\u001b[39;49m\u001b[39m2fa key: \u001b[39;49m\u001b[39m\"\u001b[39;49m))\n",
      "\u001b[1;32m/home/n1rv4n4/USSCS/USSCS/db_api.ipynb Cell 11\u001b[0m in \u001b[0;36m1\n\u001b[1;32m     <a href='vscode-notebook-cell:/home/n1rv4n4/USSCS/USSCS/db_api.ipynb#X13sZmlsZQ%3D%3D?line=14'>15</a>\u001b[0m \u001b[39mdef\u001b[39;00m \u001b[39m__init__\u001b[39m(\u001b[39mself\u001b[39m, username:\u001b[39mstr\u001b[39m, passwort:\u001b[39mstr\u001b[39m, twofa_key:\u001b[39mstr\u001b[39m\u001b[39m=\u001b[39m\u001b[39mNone\u001b[39;00m):\n\u001b[0;32m---> <a href='vscode-notebook-cell:/home/n1rv4n4/USSCS/USSCS/db_api.ipynb#X13sZmlsZQ%3D%3D?line=15'>16</a>\u001b[0m     \u001b[39mself\u001b[39m\u001b[39m.\u001b[39m_user \u001b[39m=\u001b[39m user_kernel(username, passwort, twofa_key)\n\u001b[1;32m     <a href='vscode-notebook-cell:/home/n1rv4n4/USSCS/USSCS/db_api.ipynb#X13sZmlsZQ%3D%3D?line=16'>17</a>\u001b[0m     \u001b[39mself\u001b[39m\u001b[39m.\u001b[39m_manage \u001b[39m=\u001b[39m manage()\n",
      "File \u001b[0;32m~/USSCS/USSCS/db_kernel.py:428\u001b[0m, in \u001b[0;36muser.__init__\u001b[0;34m(self, username, password, twofa_code)\u001b[0m\n\u001b[1;32m    426\u001b[0m \u001b[39mif\u001b[39;00m \u001b[39mself\u001b[39m\u001b[39m.\u001b[39mis_2fa_enabled:\n\u001b[1;32m    427\u001b[0m     \u001b[39mif\u001b[39;00m \u001b[39mnot\u001b[39;00m twofa_code:\n\u001b[0;32m--> 428\u001b[0m         \u001b[39mraise\u001b[39;00m \u001b[39mValueError\u001b[39;00m(\u001b[39m\"\u001b[39m\u001b[39m2FA is enabled\u001b[39m\u001b[39m\"\u001b[39m)\n\u001b[1;32m    429\u001b[0m     \u001b[39mif\u001b[39;00m \u001b[39mnot\u001b[39;00m \u001b[39mself\u001b[39m\u001b[39m.\u001b[39mcheck_twofa(twofa_code):\n\u001b[1;32m    430\u001b[0m         \u001b[39mraise\u001b[39;00m \u001b[39mValueError\u001b[39;00m(\u001b[39m\"\u001b[39m\u001b[39m2FA code is invalid\u001b[39m\u001b[39m\"\u001b[39m)\n",
      "\u001b[0;31mValueError\u001b[0m: 2FA is enabled"
     ]
    }
   ],
   "source": [
    "img = user1.enable_twofa()\n",
    "img.save('qrcode.png')\n",
    "user1 = user(\"test\", \"test\", input(\"2fa key: \"))\n"
   ]
  }
 ],
 "metadata": {
  "kernelspec": {
   "display_name": "Python 3",
   "language": "python",
   "name": "python3"
  },
  "language_info": {
   "codemirror_mode": {
    "name": "ipython",
    "version": 3
   },
   "file_extension": ".py",
   "mimetype": "text/x-python",
   "name": "python",
   "nbconvert_exporter": "python",
   "pygments_lexer": "ipython3",
   "version": "3.11.2"
  },
  "orig_nbformat": 4
 },
 "nbformat": 4,
 "nbformat_minor": 2
}
