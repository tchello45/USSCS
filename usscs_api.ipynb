{
 "cells": [
  {
   "cell_type": "code",
   "execution_count": null,
   "metadata": {},
   "outputs": [],
   "source": [
    "from encpp.encpp import *\n",
    "from db_api import add_user as usscs_add_user\n",
    "from db_api import user as usscs_user\n",
    "from db_api import exists as usscs_exists\n",
    "\"\"\"\n",
    "USSCS - Universal Server Side Chat System \n",
    "Version: 1.0.3                         \n",
    "Author: Tilman Kurmayer                   \n",
    "License: only with permission from author \n",
    "\n",
    "Info: This file is the API for the USSCS\n",
    "it`s the highest layer of the USSCS. It contains the dtabase API and allows you to create Software specific characteristics for users.\n",
    "The USSCS datbase only needs a username and a password for each user. The USSCS API allows you to add more information to the user.\n",
    "This information is NOT stored in the database.\n",
    "To interact with the USSCS database, you have to add a user and then user_functions are available at usscs.user(username, password)!\n",
    "\n",
    "The default user functions from usscs are:\n",
    "    send message\n",
    "    get message\n",
    "    get unread\n",
    "\n",
    "    add contact\n",
    "    remove contact\n",
    "    get contacts\n",
    "\n",
    "    set privacy\n",
    "    get privacy\n",
    "\n",
    "    enable 2fa\n",
    "    disable 2fa\n",
    "    get 2fa\n",
    "\n",
    "    delete account\n",
    "\n",
    "    change password\n",
    "\n",
    "    get all users\n",
    "\n",
    "LAYER 3 and last LAYER\n",
    "\"\"\"\n",
    "__version__ = \"1.0.3\"\n",
    "class add_user(usscs_add_user):\n",
    "    pass\n",
    "class exists(usscs_exists):\n",
    "    pass\n",
    "class user(usscs_user):\n",
    "    pass\n"
   ]
  },
  {
   "attachments": {},
   "cell_type": "markdown",
   "metadata": {},
   "source": [
    "Delete all db files:"
   ]
  },
  {
   "cell_type": "code",
   "execution_count": 5,
   "metadata": {},
   "outputs": [],
   "source": [
    "import glob\n",
    "import os\n",
    "db_files = glob.glob(\"*.db\")\n",
    "for file in db_files:\n",
    "    os.remove(file)"
   ]
  },
  {
   "attachments": {},
   "cell_type": "markdown",
   "metadata": {},
   "source": [
    "Add user remove him and add him again:"
   ]
  },
  {
   "cell_type": "code",
   "execution_count": null,
   "metadata": {},
   "outputs": [],
   "source": [
    "pub, priv = rsa.newkeys(512)\n",
    "add_user.add_user(\"test\", \"test\", pub, priv)\n",
    "user(\"test\", \"test\").delete_account()\n",
    "print(\"Test passed!\")\n",
    "add_user.add_user(\"test\", \"test\", pub, priv)"
   ]
  },
  {
   "attachments": {},
   "cell_type": "markdown",
   "metadata": {},
   "source": [
    "Add second user:"
   ]
  },
  {
   "cell_type": "code",
   "execution_count": null,
   "metadata": {},
   "outputs": [],
   "source": [
    "pub, priv = rsa.newkeys(512)\n",
    "add_user.add_user(\"test2\", \"test\", pub, priv)\n",
    "user(\"test2\", \"test\").delete_account()\n",
    "print(\"Test passed!\")\n",
    "add_user.add_user(\"test2\", \"test\", pub, priv)"
   ]
  }
 ],
 "metadata": {
  "kernelspec": {
   "display_name": "Python 3",
   "language": "python",
   "name": "python3"
  },
  "language_info": {
   "codemirror_mode": {
    "name": "ipython",
    "version": 3
   },
   "file_extension": ".py",
   "mimetype": "text/x-python",
   "name": "python",
   "nbconvert_exporter": "python",
   "pygments_lexer": "ipython3",
   "version": "3.11.2"
  },
  "orig_nbformat": 4
 },
 "nbformat": 4,
 "nbformat_minor": 2
}
